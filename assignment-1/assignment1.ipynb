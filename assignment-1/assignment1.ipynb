{
 "cells": [
  {
   "cell_type": "markdown",
   "metadata": {},
   "source": [
    "### Working with basic OpenCV methods for image processing\n",
    "\n",
    "#### Task\n",
    "Get familiar with following methods:\n",
    "<ul>\n",
    "    <li>\n",
    "        <code>cv2.warpAffine</code> - rotate imag;\n",
    "    </li>\n",
    "    <li>\n",
    "        <code>cv2.resize</code> - change size;\n",
    "    </li>\n",
    "    <li>\n",
    "        <code>cv2.line</code> - draw line;\n",
    "    </li>\n",
    "    <li>\n",
    "        <code>cv2.putText</code> - add text;\n",
    "    </li>\n",
    "    <li>\n",
    "        <code>cv2.waitKey</code> - wait until key will be pressed;\n",
    "    </li>\n",
    "    <li>\n",
    "        <code>cv2.imread</code> - read source image;\n",
    "    </li>\n",
    "    <li>\n",
    "        <code>cv2.imShow</code> - display image;\n",
    "    </li>\n",
    "</ul>\n",
    "\n",
    "Import OpenCV library."
   ]
  },
  {
   "cell_type": "code",
   "execution_count": 10,
   "metadata": {},
   "outputs": [],
   "source": [
    "import cv2;"
   ]
  },
  {
   "cell_type": "markdown",
   "metadata": {},
   "source": [
    "Define a function for displaying the image."
   ]
  },
  {
   "cell_type": "code",
   "execution_count": 11,
   "metadata": {},
   "outputs": [],
   "source": [
    "def displayImage(picture, text):\n",
    "    cv2.imshow(text, picture)\n",
    "    cv2.waitKey(-1)\n",
    "    cv2.destroyAllWindows()"
   ]
  },
  {
   "cell_type": "markdown",
   "metadata": {},
   "source": [
    "Read image and and display it."
   ]
  },
  {
   "cell_type": "code",
   "execution_count": 12,
   "metadata": {},
   "outputs": [],
   "source": [
    "source_image = cv2.imread(\"../03.jpg\")\n",
    "\n",
    "displayImage(source_image, 'Source image')"
   ]
  },
  {
   "cell_type": "markdown",
   "metadata": {},
   "source": [
    "Write text on the image."
   ]
  },
  {
   "cell_type": "code",
   "execution_count": 13,
   "metadata": {},
   "outputs": [],
   "source": [
    "texted_image = cv2.putText(source_image.copy(), 'Hello, world!', (40, 150), cv2.FONT_HERSHEY_SCRIPT_COMPLEX, 3, (0, 0, 255), 2)\n",
    "\n",
    "displayImage(texted_image, 'Texted image')"
   ]
  },
  {
   "cell_type": "markdown",
   "metadata": {},
   "source": [
    "Resize source image and displaying it."
   ]
  },
  {
   "cell_type": "code",
   "execution_count": 14,
   "metadata": {},
   "outputs": [],
   "source": [
    "resized_image = source_image.copy()[45:256, 100:270]\n",
    "\n",
    "displayImage(resized_image, \"Resized image\")"
   ]
  },
  {
   "cell_type": "markdown",
   "metadata": {},
   "source": [
    "Draw line on the image."
   ]
  },
  {
   "cell_type": "code",
   "execution_count": 15,
   "metadata": {},
   "outputs": [],
   "source": [
    "lined_image = cv2.line(source_image.copy(), (10, 100), (300, 100), (0, 255, 0), 5)\n",
    "\n",
    "displayImage(lined_image, 'Lined image')"
   ]
  },
  {
   "cell_type": "markdown",
   "metadata": {},
   "source": [
    "Rotate image.\n",
    "<ol>\n",
    "    <li>Get source image parameters: height, weight and amount of channels;</li>\n",
    "    <li>Define pivot poit for the image rotation;</li>\n",
    "    <li>Get rotation matrix and rotate the image.</li>\n",
    "</ol>"
   ]
  },
  {
   "cell_type": "code",
   "execution_count": 16,
   "metadata": {},
   "outputs": [],
   "source": [
    "(height, weight, channels) = source_image.shape\n",
    "pivot = (height // 2, weight // 2)\n",
    "\n",
    "rotated_image = cv2.warpAffine(source_image.copy(), cv2.getRotationMatrix2D(pivot, 30, 1), (weight, height))\n",
    "\n",
    "displayImage(rotated_image, \"Rotated image\")"
   ]
  }
 ],
 "metadata": {
  "kernelspec": {
   "display_name": "Python 3",
   "language": "python",
   "name": "python3"
  },
  "language_info": {
   "codemirror_mode": {
    "name": "ipython",
    "version": 3
   },
   "file_extension": ".py",
   "mimetype": "text/x-python",
   "name": "python",
   "nbconvert_exporter": "python",
   "pygments_lexer": "ipython3",
   "version": "3.11.5"
  },
  "orig_nbformat": 4
 },
 "nbformat": 4,
 "nbformat_minor": 2
}
