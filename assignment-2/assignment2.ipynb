{
 "cells": [
  {
   "cell_type": "markdown",
   "metadata": {},
   "source": [
    "### Reading, displaying and writing image.\n",
    "\n",
    "#### Task 1: Read full-coloured image, create image matrix, display grayscale and then colored image.  "
   ]
  },
  {
   "cell_type": "code",
   "execution_count": 88,
   "metadata": {},
   "outputs": [],
   "source": [
    "import cv2"
   ]
  },
  {
   "cell_type": "markdown",
   "metadata": {},
   "source": [
    "Define a function for displaying the image."
   ]
  },
  {
   "cell_type": "code",
   "execution_count": 89,
   "metadata": {},
   "outputs": [],
   "source": [
    "def displayImage(picture, text):\n",
    "    cv2.imshow(text, picture)\n",
    "    cv2.waitKey(-1)\n",
    "    cv2.destroyAllWindows()"
   ]
  },
  {
   "cell_type": "markdown",
   "metadata": {},
   "source": [
    "Read coloured image. Display coloured image matrix."
   ]
  },
  {
   "cell_type": "code",
   "execution_count": 90,
   "metadata": {},
   "outputs": [
    {
     "data": {
      "text/plain": [
       "array([[[125, 116, 113],\n",
       "        [126, 117, 114],\n",
       "        [126, 117, 114],\n",
       "        ...,\n",
       "        [217, 220, 218],\n",
       "        [217, 219, 219],\n",
       "        [217, 219, 219]],\n",
       "\n",
       "       [[126, 117, 114],\n",
       "        [126, 117, 114],\n",
       "        [126, 117, 114],\n",
       "        ...,\n",
       "        [219, 222, 220],\n",
       "        [219, 221, 221],\n",
       "        [219, 221, 221]],\n",
       "\n",
       "       [[127, 118, 115],\n",
       "        [127, 118, 115],\n",
       "        [127, 118, 115],\n",
       "        ...,\n",
       "        [223, 226, 224],\n",
       "        [223, 225, 225],\n",
       "        [223, 225, 225]],\n",
       "\n",
       "       ...,\n",
       "\n",
       "       [[ 56,  52,  51],\n",
       "        [ 66,  62,  61],\n",
       "        [ 71,  67,  66],\n",
       "        ...,\n",
       "        [ 55,  51,  50],\n",
       "        [ 45,  43,  42],\n",
       "        [ 55,  53,  52]],\n",
       "\n",
       "       [[ 53,  49,  48],\n",
       "        [ 64,  60,  59],\n",
       "        [ 66,  62,  61],\n",
       "        ...,\n",
       "        [ 55,  51,  50],\n",
       "        [ 51,  49,  48],\n",
       "        [ 64,  62,  61]],\n",
       "\n",
       "       [[ 67,  64,  60],\n",
       "        [ 69,  66,  62],\n",
       "        [ 65,  60,  61],\n",
       "        ...,\n",
       "        [ 60,  56,  55],\n",
       "        [ 60,  56,  55],\n",
       "        [ 62,  58,  57]]], dtype=uint8)"
      ]
     },
     "execution_count": 90,
     "metadata": {},
     "output_type": "execute_result"
    }
   ],
   "source": [
    "image_path = '../03.jpg'\n",
    "\n",
    "source_img = cv2.imread(image_path, -1)\n",
    "\n",
    "source_img"
   ]
  },
  {
   "cell_type": "markdown",
   "metadata": {},
   "source": [
    "Display coloured image."
   ]
  },
  {
   "cell_type": "code",
   "execution_count": 91,
   "metadata": {},
   "outputs": [],
   "source": [
    "displayImage(source_img, 'Colored image')"
   ]
  },
  {
   "cell_type": "markdown",
   "metadata": {},
   "source": [
    "Read grayscale image. Display grayscale image matrix."
   ]
  },
  {
   "cell_type": "code",
   "execution_count": 92,
   "metadata": {},
   "outputs": [
    {
     "data": {
      "text/plain": [
       "array([[116, 117, 117, ..., 219, 219, 219],\n",
       "       [117, 117, 117, ..., 221, 221, 221],\n",
       "       [118, 118, 118, ..., 225, 225, 225],\n",
       "       ...,\n",
       "       [ 52,  62,  67, ...,  51,  43,  53],\n",
       "       [ 49,  60,  62, ...,  51,  49,  62],\n",
       "       [ 63,  65,  61, ...,  56,  56,  58]], dtype=uint8)"
      ]
     },
     "execution_count": 92,
     "metadata": {},
     "output_type": "execute_result"
    }
   ],
   "source": [
    "grayscale_img = cv2.imread(image_path, 0)\n",
    "\n",
    "grayscale_img"
   ]
  },
  {
   "cell_type": "markdown",
   "metadata": {},
   "source": [
    "Display grayscale_img image."
   ]
  },
  {
   "cell_type": "code",
   "execution_count": 93,
   "metadata": {},
   "outputs": [],
   "source": [
    "displayImage(grayscale_img, 'Grayscale image')"
   ]
  },
  {
   "cell_type": "markdown",
   "metadata": {},
   "source": [
    "Write grayscale image matrix to new file."
   ]
  },
  {
   "cell_type": "code",
   "execution_count": 94,
   "metadata": {},
   "outputs": [
    {
     "data": {
      "text/plain": [
       "True"
      ]
     },
     "execution_count": 94,
     "metadata": {},
     "output_type": "execute_result"
    }
   ],
   "source": [
    "cv2.imwrite('../grayscale3.jpeg', grayscale_img)"
   ]
  },
  {
   "cell_type": "markdown",
   "metadata": {},
   "source": [
    "Image properties.\n",
    "\n",
    "1. Type:"
   ]
  },
  {
   "cell_type": "code",
   "execution_count": 95,
   "metadata": {},
   "outputs": [
    {
     "data": {
      "text/plain": [
       "numpy.ndarray"
      ]
     },
     "execution_count": 95,
     "metadata": {},
     "output_type": "execute_result"
    }
   ],
   "source": [
    "type(source_img)"
   ]
  },
  {
   "cell_type": "markdown",
   "metadata": {},
   "source": [
    "2. Coloured image shape (height, width, chanels) colour chanels = 3:"
   ]
  },
  {
   "cell_type": "code",
   "execution_count": 96,
   "metadata": {},
   "outputs": [
    {
     "data": {
      "text/plain": [
       "(385, 610, 3)"
      ]
     },
     "execution_count": 96,
     "metadata": {},
     "output_type": "execute_result"
    }
   ],
   "source": [
    "source_img.shape"
   ]
  },
  {
   "cell_type": "markdown",
   "metadata": {},
   "source": [
    "3. Grayscale image shape (height, width) colour channels = 1:"
   ]
  },
  {
   "cell_type": "code",
   "execution_count": 97,
   "metadata": {},
   "outputs": [
    {
     "data": {
      "text/plain": [
       "(385, 610)"
      ]
     },
     "execution_count": 97,
     "metadata": {},
     "output_type": "execute_result"
    }
   ],
   "source": [
    "grayscale_img.shape"
   ]
  },
  {
   "cell_type": "markdown",
   "metadata": {},
   "source": [
    "4. Image size (amount of pixels):"
   ]
  },
  {
   "cell_type": "code",
   "execution_count": 98,
   "metadata": {},
   "outputs": [
    {
     "data": {
      "text/plain": [
       "704550"
      ]
     },
     "execution_count": 98,
     "metadata": {},
     "output_type": "execute_result"
    }
   ],
   "source": [
    "source_img.size"
   ]
  },
  {
   "cell_type": "markdown",
   "metadata": {},
   "source": [
    "5. Image type:"
   ]
  },
  {
   "cell_type": "code",
   "execution_count": 99,
   "metadata": {},
   "outputs": [
    {
     "data": {
      "text/plain": [
       "dtype('uint8')"
      ]
     },
     "execution_count": 99,
     "metadata": {},
     "output_type": "execute_result"
    }
   ],
   "source": [
    "source_img.dtype"
   ]
  }
 ],
 "metadata": {
  "kernelspec": {
   "display_name": "Python 3",
   "language": "python",
   "name": "python3"
  },
  "language_info": {
   "codemirror_mode": {
    "name": "ipython",
    "version": 3
   },
   "file_extension": ".py",
   "mimetype": "text/x-python",
   "name": "python",
   "nbconvert_exporter": "python",
   "pygments_lexer": "ipython3",
   "version": "3.11.5"
  },
  "orig_nbformat": 4
 },
 "nbformat": 4,
 "nbformat_minor": 2
}
