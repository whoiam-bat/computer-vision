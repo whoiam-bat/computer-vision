{
 "cells": [
  {
   "cell_type": "markdown",
   "metadata": {},
   "source": [
    "### Filters applying."
   ]
  },
  {
   "cell_type": "code",
   "execution_count": null,
   "metadata": {},
   "outputs": [],
   "source": [
    "import cv2\n",
    "from matplotlib import pyplot as plt\n",
    "\n",
    "def displayImage(image, option=None):\n",
    "    plt.imshow(image, option)\n",
    "    plt.axis('off')\n",
    "   \n",
    "    \n",
    "def saveImage(path, image):\n",
    "    output = cv2.cvtColor(image, cv2.COLOR_BGR2RGB)\n",
    "    cv2.imwrite(path, output)\n",
    "\n",
    "\n",
    "image_path = '../03.jpg'\n",
    "\n",
    "bgr_image = cv2.imread(image_path, 1)\n",
    "rgb_image = cv2.cvtColor(bgr_image, cv2.COLOR_BGR2RGB)\n",
    "\n",
    "displayImage(rgb_image)"
   ]
  },
  {
   "cell_type": "markdown",
   "metadata": {},
   "source": [
    "#### Task 1: Apply MedianBlur filter algorithm.\n",
    "\n",
    "    The median blur algorithm is a non-linear filtering technique that is used to remove noise from images. It works by replacing each pixel in the image with the median of the neighboring pixels. The neighboring pixels are defined by a kernel, which is a small matrix of weights. The size of the kernel determines the extent of the smoothing."
   ]
  },
  {
   "cell_type": "code",
   "execution_count": null,
   "metadata": {},
   "outputs": [],
   "source": [
    "median_blurred_image = cv2.medianBlur(rgb_image.copy(), 5)\n",
    "\n",
    "displayImage(median_blurred_image)\n",
    "saveImage('./median_blur.jpeg', median_blurred_image)"
   ]
  },
  {
   "cell_type": "markdown",
   "metadata": {},
   "source": [
    "#### Task 2: Apply Filter2D - mean filter algorithm.\n",
    "\n",
    "    Filter2D and mean filter algorithm works by convolving the image with a kernel.\n",
    "    Kernel is a small arranged in a symmetric pattern matrix. Size of the kernel determines size of the convolution operation, a larger kernel will reproduce a smotherr output image.\n",
    "    Moving kernel through each pixel of image and computing sum of multiplication of each kernel cell with its corresponding image pixels."
   ]
  },
  {
   "cell_type": "code",
   "execution_count": null,
   "metadata": {},
   "outputs": [],
   "source": [
    "import numpy as np\n",
    "\n",
    "kernel = np.ones((5, 5), np.float32) / 30\n",
    "\n",
    "filtered2d_image = cv2.filter2D(rgb_image.copy(), -1, kernel)\n",
    "\n",
    "displayImage(filtered2d_image)\n",
    "saveImage('./filter2D.jpeg', filtered2d_image)"
   ]
  },
  {
   "cell_type": "markdown",
   "metadata": {},
   "source": [
    "#### Task 3: Apply Erosion filter algorithm.\n",
    "\n",
    "    Erosion is useful for removing all small white noises.\n",
    "    Used to detach two connected objects.\n",
    "    The erode operation compares the value of each pixel in the image to the values of the pixels in the kernel. If all of the pixels in the kernel are equal to or greater than the value of the pixel in the image, then the value of the pixel in the image is set to 1. Otherwise, the value of the pixel in the image is set to 0.\n",
    "\n",
    "    "
   ]
  },
  {
   "cell_type": "code",
   "execution_count": null,
   "metadata": {},
   "outputs": [],
   "source": [
    "erosion_kernel = np.ones((5, 5), np.float32)\n",
    "\n",
    "eroded_image = cv2.erode(rgb_image.copy(), erosion_kernel)\n",
    "\n",
    "displayImage(eroded_image)\n",
    "saveImage('./eroded.jpeg', eroded_image)\n",
    "\n",
    "plt.show()"
   ]
  }
 ],
 "metadata": {
  "kernelspec": {
   "display_name": "Python 3",
   "language": "python",
   "name": "python3"
  },
  "language_info": {
   "codemirror_mode": {
    "name": "ipython",
    "version": 3
   },
   "file_extension": ".py",
   "mimetype": "text/x-python",
   "name": "python",
   "nbconvert_exporter": "python",
   "pygments_lexer": "ipython3",
   "version": "3.11.5"
  },
  "orig_nbformat": 4
 },
 "nbformat": 4,
 "nbformat_minor": 2
}
