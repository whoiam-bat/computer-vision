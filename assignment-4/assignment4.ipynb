{
 "cells": [
  {
   "cell_type": "markdown",
   "metadata": {},
   "source": [
    "### Filters applying Pt. 2. Mean Geometric filter.\n",
    "\n",
    "Mean geometric filter is used for smoothing and removing noises. It is most commonly used for smoothing Gaussian noise.\n",
    "It helps to remove noise with less data loss.\n",
    "\n",
    "    Algorithm:\n",
    "        Moving kernel through each pixel of source image, and computing multiplicatoin of each source image pixels that are locateed in the kernel neighborhood. The result of multiplication shold be powered to 1 / kernel_size.\n",
    "\n",
    "    Example:                kernel_size = 9\n",
    "        5   16  22\n",
    "        6   3   18\n",
    "        12  3   15 ==> (5 * 16 * 22 * 6 * 3 * 18 * 12 * 3 * 15) ^ (1 / 9) = 8.77"
   ]
  },
  {
   "cell_type": "code",
   "execution_count": 4,
   "metadata": {},
   "outputs": [
    {
     "name": "stdout",
     "output_type": "stream",
     "text": [
      "<class 'tuple'>\n"
     ]
    }
   ],
   "source": [
    "import cv2\n",
    "import numpy as np\n",
    "from matplotlib import pyplot as plt\n",
    "import random as rd\n",
    "\n",
    "\n",
    "def noisedImage(source_image, noise_percent):\n",
    "    read, green, blue = (255, 0, 0), (0, 255, 0), (0, 0, 255)\n",
    "    rgb = [read, green, blue]\n",
    "    \n",
    "    threshold = 1 - noise_percent\n",
    "    \n",
    "    output_image = np.zeros(source_image.shape, np.uint8)\n",
    "    \n",
    "    for i in range(source_image.shape[0]):\n",
    "        for j in range(source_image.shape[1]):\n",
    "            rand = rd.random()\n",
    "            \n",
    "            if rand > threshold:\n",
    "                output_image[i][j] = rd.choice(rgb)\n",
    "            else:\n",
    "                output_image[i][j] = source_image[i][j]\n",
    "                \n",
    "    return output_image\n",
    "                \n",
    "    "
   ]
  }
 ],
 "metadata": {
  "kernelspec": {
   "display_name": "Python 3",
   "language": "python",
   "name": "python3"
  },
  "language_info": {
   "codemirror_mode": {
    "name": "ipython",
    "version": 3
   },
   "file_extension": ".py",
   "mimetype": "text/x-python",
   "name": "python",
   "nbconvert_exporter": "python",
   "pygments_lexer": "ipython3",
   "version": "3.11.5"
  },
  "orig_nbformat": 4
 },
 "nbformat": 4,
 "nbformat_minor": 2
}
